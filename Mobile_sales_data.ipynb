{
 "cells": [
  {
   "cell_type": "code",
   "execution_count": 99,
   "metadata": {
    "execution": {
     "iopub.execute_input": "2022-04-22T14:29:28.216253Z",
     "iopub.status.busy": "2022-04-22T14:29:28.21528Z",
     "iopub.status.idle": "2022-04-22T14:29:29.416008Z",
     "shell.execute_reply": "2022-04-22T14:29:29.415201Z",
     "shell.execute_reply.started": "2022-04-22T14:29:28.216153Z"
    }
   },
   "outputs": [],
   "source": [
    "import numpy as np\n",
    "import pandas as pd\n",
    "import matplotlib.pyplot as plt\n",
    "import seaborn as sns\n",
    "from sklearn import metrics\n",
    "from sklearn.metrics import r2_score"
   ]
  },
  {
   "cell_type": "code",
   "execution_count": 100,
   "metadata": {
    "execution": {
     "iopub.execute_input": "2022-04-22T14:30:57.555106Z",
     "iopub.status.busy": "2022-04-22T14:30:57.554495Z",
     "iopub.status.idle": "2022-04-22T14:30:57.574967Z",
     "shell.execute_reply": "2022-04-22T14:30:57.574313Z",
     "shell.execute_reply.started": "2022-04-22T14:30:57.555052Z"
    }
   },
   "outputs": [],
   "source": [
    "df = pd.read_csv('Flipkart Mobile - 2.csv')"
   ]
  },
  {
   "cell_type": "code",
   "execution_count": 101,
   "metadata": {
    "execution": {
     "iopub.execute_input": "2022-04-22T14:31:01.836103Z",
     "iopub.status.busy": "2022-04-22T14:31:01.835169Z",
     "iopub.status.idle": "2022-04-22T14:31:01.867732Z",
     "shell.execute_reply": "2022-04-22T14:31:01.867065Z",
     "shell.execute_reply.started": "2022-04-22T14:31:01.836043Z"
    }
   },
   "outputs": [
    {
     "data": {
      "text/html": [
       "<div>\n",
       "<style scoped>\n",
       "    .dataframe tbody tr th:only-of-type {\n",
       "        vertical-align: middle;\n",
       "    }\n",
       "\n",
       "    .dataframe tbody tr th {\n",
       "        vertical-align: top;\n",
       "    }\n",
       "\n",
       "    .dataframe thead th {\n",
       "        text-align: right;\n",
       "    }\n",
       "</style>\n",
       "<table border=\"1\" class=\"dataframe\">\n",
       "  <thead>\n",
       "    <tr style=\"text-align: right;\">\n",
       "      <th></th>\n",
       "      <th>brand</th>\n",
       "      <th>model</th>\n",
       "      <th>base_color</th>\n",
       "      <th>processor</th>\n",
       "      <th>screen_size</th>\n",
       "      <th>ROM</th>\n",
       "      <th>RAM</th>\n",
       "      <th>display_size</th>\n",
       "      <th>num_rear_camera</th>\n",
       "      <th>num_front_camera</th>\n",
       "      <th>battery_capacity</th>\n",
       "      <th>ratings</th>\n",
       "      <th>num_of_ratings</th>\n",
       "      <th>sales_price</th>\n",
       "      <th>discount_percent</th>\n",
       "      <th>sales</th>\n",
       "    </tr>\n",
       "  </thead>\n",
       "  <tbody>\n",
       "    <tr>\n",
       "      <th>0</th>\n",
       "      <td>Apple</td>\n",
       "      <td>iPhone SE</td>\n",
       "      <td>Black</td>\n",
       "      <td>Water</td>\n",
       "      <td>Very Small</td>\n",
       "      <td>64</td>\n",
       "      <td>2</td>\n",
       "      <td>4.7</td>\n",
       "      <td>1</td>\n",
       "      <td>1</td>\n",
       "      <td>1800</td>\n",
       "      <td>4.5</td>\n",
       "      <td>38645</td>\n",
       "      <td>32999</td>\n",
       "      <td>0.17</td>\n",
       "      <td>127.52</td>\n",
       "    </tr>\n",
       "    <tr>\n",
       "      <th>1</th>\n",
       "      <td>Apple</td>\n",
       "      <td>iPhone 12 Mini</td>\n",
       "      <td>Red</td>\n",
       "      <td>Ceramic</td>\n",
       "      <td>Small</td>\n",
       "      <td>64</td>\n",
       "      <td>4</td>\n",
       "      <td>5.4</td>\n",
       "      <td>2</td>\n",
       "      <td>1</td>\n",
       "      <td>2815</td>\n",
       "      <td>4.5</td>\n",
       "      <td>244</td>\n",
       "      <td>57149</td>\n",
       "      <td>0.04</td>\n",
       "      <td>1.39</td>\n",
       "    </tr>\n",
       "    <tr>\n",
       "      <th>2</th>\n",
       "      <td>Apple</td>\n",
       "      <td>iPhone SE</td>\n",
       "      <td>Red</td>\n",
       "      <td>Water</td>\n",
       "      <td>Very Small</td>\n",
       "      <td>64</td>\n",
       "      <td>2</td>\n",
       "      <td>4.7</td>\n",
       "      <td>1</td>\n",
       "      <td>1</td>\n",
       "      <td>1800</td>\n",
       "      <td>4.5</td>\n",
       "      <td>38645</td>\n",
       "      <td>32999</td>\n",
       "      <td>0.17</td>\n",
       "      <td>127.52</td>\n",
       "    </tr>\n",
       "    <tr>\n",
       "      <th>3</th>\n",
       "      <td>Apple</td>\n",
       "      <td>iPhone XR</td>\n",
       "      <td>Others</td>\n",
       "      <td>iOS</td>\n",
       "      <td>Medium</td>\n",
       "      <td>64</td>\n",
       "      <td>3</td>\n",
       "      <td>6.1</td>\n",
       "      <td>1</td>\n",
       "      <td>1</td>\n",
       "      <td>2942</td>\n",
       "      <td>4.6</td>\n",
       "      <td>5366</td>\n",
       "      <td>42999</td>\n",
       "      <td>0.10</td>\n",
       "      <td>23.07</td>\n",
       "    </tr>\n",
       "    <tr>\n",
       "      <th>4</th>\n",
       "      <td>Apple</td>\n",
       "      <td>iPhone 12</td>\n",
       "      <td>Red</td>\n",
       "      <td>Ceramic</td>\n",
       "      <td>Medium</td>\n",
       "      <td>128</td>\n",
       "      <td>4</td>\n",
       "      <td>6.1</td>\n",
       "      <td>2</td>\n",
       "      <td>1</td>\n",
       "      <td>2815</td>\n",
       "      <td>4.6</td>\n",
       "      <td>745</td>\n",
       "      <td>69149</td>\n",
       "      <td>0.02</td>\n",
       "      <td>5.15</td>\n",
       "    </tr>\n",
       "  </tbody>\n",
       "</table>\n",
       "</div>"
      ],
      "text/plain": [
       "   brand           model base_color processor screen_size  ROM  RAM  \\\n",
       "0  Apple       iPhone SE      Black     Water  Very Small   64    2   \n",
       "1  Apple  iPhone 12 Mini        Red   Ceramic       Small   64    4   \n",
       "2  Apple       iPhone SE        Red     Water  Very Small   64    2   \n",
       "3  Apple       iPhone XR     Others       iOS      Medium   64    3   \n",
       "4  Apple       iPhone 12        Red   Ceramic      Medium  128    4   \n",
       "\n",
       "   display_size  num_rear_camera  num_front_camera  battery_capacity  ratings  \\\n",
       "0           4.7                1                 1              1800      4.5   \n",
       "1           5.4                2                 1              2815      4.5   \n",
       "2           4.7                1                 1              1800      4.5   \n",
       "3           6.1                1                 1              2942      4.6   \n",
       "4           6.1                2                 1              2815      4.6   \n",
       "\n",
       "   num_of_ratings  sales_price  discount_percent   sales  \n",
       "0           38645        32999              0.17  127.52  \n",
       "1             244        57149              0.04    1.39  \n",
       "2           38645        32999              0.17  127.52  \n",
       "3            5366        42999              0.10   23.07  \n",
       "4             745        69149              0.02    5.15  "
      ]
     },
     "execution_count": 101,
     "metadata": {},
     "output_type": "execute_result"
    }
   ],
   "source": [
    "df.head(5)"
   ]
  },
  {
   "cell_type": "code",
   "execution_count": 102,
   "metadata": {
    "execution": {
     "iopub.execute_input": "2022-04-22T14:31:05.634869Z",
     "iopub.status.busy": "2022-04-22T14:31:05.634288Z",
     "iopub.status.idle": "2022-04-22T14:31:05.647491Z",
     "shell.execute_reply": "2022-04-22T14:31:05.646099Z",
     "shell.execute_reply.started": "2022-04-22T14:31:05.634816Z"
    }
   },
   "outputs": [],
   "source": [
    "df=df.drop(columns=['model','base_color','num_of_ratings','discount_percent','sales'])"
   ]
  },
  {
   "cell_type": "code",
   "execution_count": null,
   "metadata": {},
   "outputs": [],
   "source": []
  },
  {
   "cell_type": "code",
   "execution_count": 103,
   "metadata": {
    "execution": {
     "iopub.execute_input": "2022-04-22T14:31:06.107753Z",
     "iopub.status.busy": "2022-04-22T14:31:06.10707Z",
     "iopub.status.idle": "2022-04-22T14:31:06.129158Z",
     "shell.execute_reply": "2022-04-22T14:31:06.128521Z",
     "shell.execute_reply.started": "2022-04-22T14:31:06.107701Z"
    }
   },
   "outputs": [
    {
     "name": "stdout",
     "output_type": "stream",
     "text": [
      "<class 'pandas.core.frame.DataFrame'>\n",
      "RangeIndex: 430 entries, 0 to 429\n",
      "Data columns (total 11 columns):\n",
      " #   Column            Non-Null Count  Dtype  \n",
      "---  ------            --------------  -----  \n",
      " 0   brand             430 non-null    object \n",
      " 1   processor         430 non-null    object \n",
      " 2   screen_size       430 non-null    object \n",
      " 3   ROM               430 non-null    int64  \n",
      " 4   RAM               430 non-null    int64  \n",
      " 5   display_size      430 non-null    float64\n",
      " 6   num_rear_camera   430 non-null    int64  \n",
      " 7   num_front_camera  430 non-null    int64  \n",
      " 8   battery_capacity  430 non-null    int64  \n",
      " 9   ratings           430 non-null    float64\n",
      " 10  sales_price       430 non-null    int64  \n",
      "dtypes: float64(2), int64(6), object(3)\n",
      "memory usage: 37.1+ KB\n"
     ]
    }
   ],
   "source": [
    "df.info()"
   ]
  },
  {
   "cell_type": "code",
   "execution_count": 104,
   "metadata": {
    "execution": {
     "iopub.execute_input": "2022-04-22T14:31:10.261241Z",
     "iopub.status.busy": "2022-04-22T14:31:10.26089Z",
     "iopub.status.idle": "2022-04-22T14:31:10.272489Z",
     "shell.execute_reply": "2022-04-22T14:31:10.271839Z",
     "shell.execute_reply.started": "2022-04-22T14:31:10.261201Z"
    }
   },
   "outputs": [
    {
     "name": "stdout",
     "output_type": "stream",
     "text": [
      "Shape of Training dataset: (430, 11)\n"
     ]
    },
    {
     "data": {
      "text/plain": [
       "brand               0\n",
       "processor           0\n",
       "screen_size         0\n",
       "ROM                 0\n",
       "RAM                 0\n",
       "display_size        0\n",
       "num_rear_camera     0\n",
       "num_front_camera    0\n",
       "battery_capacity    0\n",
       "ratings             0\n",
       "sales_price         0\n",
       "dtype: int64"
      ]
     },
     "execution_count": 104,
     "metadata": {},
     "output_type": "execute_result"
    }
   ],
   "source": [
    "# Shape of the Dataset\n",
    "print(\"Shape of Training dataset:\", df.shape)\n",
    "\n",
    "# Checking null values for training dataset\n",
    "df.isnull().sum()"
   ]
  },
  {
   "cell_type": "code",
   "execution_count": 105,
   "metadata": {
    "execution": {
     "iopub.execute_input": "2022-04-22T14:31:10.564322Z",
     "iopub.status.busy": "2022-04-22T14:31:10.563503Z",
     "iopub.status.idle": "2022-04-22T14:31:10.572207Z",
     "shell.execute_reply": "2022-04-22T14:31:10.570756Z",
     "shell.execute_reply.started": "2022-04-22T14:31:10.564269Z"
    }
   },
   "outputs": [
    {
     "data": {
      "text/plain": [
       "brand                object\n",
       "processor            object\n",
       "screen_size          object\n",
       "ROM                   int64\n",
       "RAM                   int64\n",
       "display_size        float64\n",
       "num_rear_camera       int64\n",
       "num_front_camera      int64\n",
       "battery_capacity      int64\n",
       "ratings             float64\n",
       "sales_price           int64\n",
       "dtype: object"
      ]
     },
     "execution_count": 105,
     "metadata": {},
     "output_type": "execute_result"
    }
   ],
   "source": [
    "df.dtypes"
   ]
  },
  {
   "cell_type": "code",
   "execution_count": 106,
   "metadata": {
    "execution": {
     "iopub.execute_input": "2022-04-22T14:31:13.792956Z",
     "iopub.status.busy": "2022-04-22T14:31:13.792684Z",
     "iopub.status.idle": "2022-04-22T14:31:13.830437Z",
     "shell.execute_reply": "2022-04-22T14:31:13.829682Z",
     "shell.execute_reply.started": "2022-04-22T14:31:13.792927Z"
    }
   },
   "outputs": [
    {
     "data": {
      "text/html": [
       "<div>\n",
       "<style scoped>\n",
       "    .dataframe tbody tr th:only-of-type {\n",
       "        vertical-align: middle;\n",
       "    }\n",
       "\n",
       "    .dataframe tbody tr th {\n",
       "        vertical-align: top;\n",
       "    }\n",
       "\n",
       "    .dataframe thead th {\n",
       "        text-align: right;\n",
       "    }\n",
       "</style>\n",
       "<table border=\"1\" class=\"dataframe\">\n",
       "  <thead>\n",
       "    <tr style=\"text-align: right;\">\n",
       "      <th></th>\n",
       "      <th>ROM</th>\n",
       "      <th>RAM</th>\n",
       "      <th>display_size</th>\n",
       "      <th>num_rear_camera</th>\n",
       "      <th>num_front_camera</th>\n",
       "      <th>battery_capacity</th>\n",
       "      <th>ratings</th>\n",
       "      <th>sales_price</th>\n",
       "    </tr>\n",
       "  </thead>\n",
       "  <tbody>\n",
       "    <tr>\n",
       "      <th>count</th>\n",
       "      <td>430.000000</td>\n",
       "      <td>430.000000</td>\n",
       "      <td>430.000000</td>\n",
       "      <td>430.000000</td>\n",
       "      <td>430.000000</td>\n",
       "      <td>430.000000</td>\n",
       "      <td>430.000000</td>\n",
       "      <td>430.000000</td>\n",
       "    </tr>\n",
       "    <tr>\n",
       "      <th>mean</th>\n",
       "      <td>105.748837</td>\n",
       "      <td>5.320930</td>\n",
       "      <td>6.369767</td>\n",
       "      <td>2.904651</td>\n",
       "      <td>1.044186</td>\n",
       "      <td>4529.397674</td>\n",
       "      <td>4.339302</td>\n",
       "      <td>25433.234884</td>\n",
       "    </tr>\n",
       "    <tr>\n",
       "      <th>std</th>\n",
       "      <td>63.164064</td>\n",
       "      <td>2.182635</td>\n",
       "      <td>0.369549</td>\n",
       "      <td>0.952350</td>\n",
       "      <td>0.227280</td>\n",
       "      <td>986.907252</td>\n",
       "      <td>0.151494</td>\n",
       "      <td>22471.926588</td>\n",
       "    </tr>\n",
       "    <tr>\n",
       "      <th>min</th>\n",
       "      <td>8.000000</td>\n",
       "      <td>1.000000</td>\n",
       "      <td>4.700000</td>\n",
       "      <td>1.000000</td>\n",
       "      <td>1.000000</td>\n",
       "      <td>1800.000000</td>\n",
       "      <td>3.000000</td>\n",
       "      <td>5742.000000</td>\n",
       "    </tr>\n",
       "    <tr>\n",
       "      <th>25%</th>\n",
       "      <td>64.000000</td>\n",
       "      <td>4.000000</td>\n",
       "      <td>6.300000</td>\n",
       "      <td>2.000000</td>\n",
       "      <td>1.000000</td>\n",
       "      <td>4000.000000</td>\n",
       "      <td>4.300000</td>\n",
       "      <td>11999.000000</td>\n",
       "    </tr>\n",
       "    <tr>\n",
       "      <th>50%</th>\n",
       "      <td>128.000000</td>\n",
       "      <td>4.000000</td>\n",
       "      <td>6.500000</td>\n",
       "      <td>3.000000</td>\n",
       "      <td>1.000000</td>\n",
       "      <td>4500.000000</td>\n",
       "      <td>4.300000</td>\n",
       "      <td>16989.500000</td>\n",
       "    </tr>\n",
       "    <tr>\n",
       "      <th>75%</th>\n",
       "      <td>128.000000</td>\n",
       "      <td>6.000000</td>\n",
       "      <td>6.500000</td>\n",
       "      <td>4.000000</td>\n",
       "      <td>1.000000</td>\n",
       "      <td>5000.000000</td>\n",
       "      <td>4.400000</td>\n",
       "      <td>28999.000000</td>\n",
       "    </tr>\n",
       "    <tr>\n",
       "      <th>max</th>\n",
       "      <td>512.000000</td>\n",
       "      <td>12.000000</td>\n",
       "      <td>7.600000</td>\n",
       "      <td>4.000000</td>\n",
       "      <td>3.000000</td>\n",
       "      <td>7000.000000</td>\n",
       "      <td>4.600000</td>\n",
       "      <td>157999.000000</td>\n",
       "    </tr>\n",
       "  </tbody>\n",
       "</table>\n",
       "</div>"
      ],
      "text/plain": [
       "              ROM         RAM  display_size  num_rear_camera  \\\n",
       "count  430.000000  430.000000    430.000000       430.000000   \n",
       "mean   105.748837    5.320930      6.369767         2.904651   \n",
       "std     63.164064    2.182635      0.369549         0.952350   \n",
       "min      8.000000    1.000000      4.700000         1.000000   \n",
       "25%     64.000000    4.000000      6.300000         2.000000   \n",
       "50%    128.000000    4.000000      6.500000         3.000000   \n",
       "75%    128.000000    6.000000      6.500000         4.000000   \n",
       "max    512.000000   12.000000      7.600000         4.000000   \n",
       "\n",
       "       num_front_camera  battery_capacity     ratings    sales_price  \n",
       "count        430.000000        430.000000  430.000000     430.000000  \n",
       "mean           1.044186       4529.397674    4.339302   25433.234884  \n",
       "std            0.227280        986.907252    0.151494   22471.926588  \n",
       "min            1.000000       1800.000000    3.000000    5742.000000  \n",
       "25%            1.000000       4000.000000    4.300000   11999.000000  \n",
       "50%            1.000000       4500.000000    4.300000   16989.500000  \n",
       "75%            1.000000       5000.000000    4.400000   28999.000000  \n",
       "max            3.000000       7000.000000    4.600000  157999.000000  "
      ]
     },
     "execution_count": 106,
     "metadata": {},
     "output_type": "execute_result"
    }
   ],
   "source": [
    "df.describe()"
   ]
  },
  {
   "cell_type": "code",
   "execution_count": 107,
   "metadata": {
    "execution": {
     "iopub.execute_input": "2022-04-22T14:31:14.514905Z",
     "iopub.status.busy": "2022-04-22T14:31:14.513946Z",
     "iopub.status.idle": "2022-04-22T14:31:14.523938Z",
     "shell.execute_reply": "2022-04-22T14:31:14.523093Z",
     "shell.execute_reply.started": "2022-04-22T14:31:14.514832Z"
    }
   },
   "outputs": [
    {
     "data": {
      "text/plain": [
       "(8, 8)"
      ]
     },
     "execution_count": 107,
     "metadata": {},
     "output_type": "execute_result"
    }
   ],
   "source": [
    "# Finding out the correlation between the features\n",
    "corr = df.corr()\n",
    "corr.shape"
   ]
  },
  {
   "cell_type": "code",
   "execution_count": 108,
   "metadata": {
    "execution": {
     "iopub.execute_input": "2022-04-22T14:31:15.56856Z",
     "iopub.status.busy": "2022-04-22T14:31:15.568121Z",
     "iopub.status.idle": "2022-04-22T14:31:16.13987Z",
     "shell.execute_reply": "2022-04-22T14:31:16.139223Z",
     "shell.execute_reply.started": "2022-04-22T14:31:15.568523Z"
    }
   },
   "outputs": [
    {
     "data": {
      "text/plain": [
       "<AxesSubplot:>"
      ]
     },
     "execution_count": 108,
     "metadata": {},
     "output_type": "execute_result"
    },
    {
     "data": {
      "image/png": "[encoded data removed]",
      "text/plain": [
       "<Figure size 1008x1008 with 1 Axes>"
      ]
     },
     "metadata": {
      "needs_background": "light"
     },
     "output_type": "display_data"
    }
   ],
   "source": [
    "# Plotting the heatmap of correlation between features\n",
    "plt.figure(figsize=(14,14))\n",
    "sns.heatmap(corr, cbar=False, square= True, fmt='.2%', annot=True, cmap='Greens')"
   ]
  },
  {
   "cell_type": "code",
   "execution_count": 109,
   "metadata": {
    "execution": {
     "iopub.execute_input": "2022-04-22T14:31:16.552435Z",
     "iopub.status.busy": "2022-04-22T14:31:16.551398Z",
     "iopub.status.idle": "2022-04-22T14:31:16.746685Z",
     "shell.execute_reply": "2022-04-22T14:31:16.745868Z",
     "shell.execute_reply.started": "2022-04-22T14:31:16.552382Z"
    }
   },
   "outputs": [
    {
     "data": {
      "text/plain": [
       "<AxesSubplot:>"
      ]
     },
     "execution_count": 109,
     "metadata": {},
     "output_type": "execute_result"
    },
    {
     "data": {
      "image/png": "[encoded data removed]",
      "text/plain": [
       "<Figure size 432x288 with 1 Axes>"
      ]
     },
     "metadata": {
      "needs_background": "light"
     },
     "output_type": "display_data"
    }
   ],
   "source": [
    "# Checking the null values using heatmap\n",
    "# There is any null values are occupyed here\n",
    "sns.heatmap(df.isnull(),yticklabels=False,cbar=False,cmap='viridis')"
   ]
  },
  {
   "cell_type": "code",
   "execution_count": 110,
   "metadata": {
    "execution": {
     "iopub.execute_input": "2022-04-22T14:31:20.128523Z",
     "iopub.status.busy": "2022-04-22T14:31:20.127928Z",
     "iopub.status.idle": "2022-04-22T14:31:20.135282Z",
     "shell.execute_reply": "2022-04-22T14:31:20.13458Z",
     "shell.execute_reply.started": "2022-04-22T14:31:20.128472Z"
    }
   },
   "outputs": [],
   "source": [
    "X = df.drop(columns=['sales_price'])\n",
    "y = np.log(df['sales_price'])"
   ]
  },
  {
   "cell_type": "code",
   "execution_count": 111,
   "metadata": {
    "execution": {
     "iopub.execute_input": "2022-04-22T14:31:23.299879Z",
     "iopub.status.busy": "2022-04-22T14:31:23.29914Z",
     "iopub.status.idle": "2022-04-22T14:31:23.547965Z",
     "shell.execute_reply": "2022-04-22T14:31:23.546824Z",
     "shell.execute_reply.started": "2022-04-22T14:31:23.299836Z"
    }
   },
   "outputs": [],
   "source": [
    "\n",
    "from sklearn.linear_model import LinearRegression,Ridge,Lasso\n",
    "from sklearn import linear_model"
   ]
  },
  {
   "cell_type": "code",
   "execution_count": 112,
   "metadata": {},
   "outputs": [
    {
     "data": {
      "text/plain": [
       "LinearRegression()"
      ]
     },
     "execution_count": 112,
     "metadata": {},
     "output_type": "execute_result"
    }
   ],
   "source": [
    "\n",
    "model=linear_model.LinearRegression()\n",
    "model.fit(df[['battery_capacity','display_size']],df.sales_price)"
   ]
  },
  {
   "cell_type": "code",
   "execution_count": 113,
   "metadata": {},
   "outputs": [
    {
     "data": {
      "text/plain": [
       "array([29956.57363276])"
      ]
     },
     "execution_count": 113,
     "metadata": {},
     "output_type": "execute_result"
    }
   ],
   "source": [
    "y_pred=model.predict([[4500,6.5]])\n",
    "y_pred"
   ]
  },
  {
   "cell_type": "code",
   "execution_count": 114,
   "metadata": {},
   "outputs": [
    {
     "data": {
      "text/plain": [
       "array([-1.86280758e+01,  3.05278242e+04])"
      ]
     },
     "execution_count": 114,
     "metadata": {},
     "output_type": "execute_result"
    }
   ],
   "source": [
    "a=model.coef_\n",
    "a"
   ]
  },
  {
   "cell_type": "code",
   "execution_count": 118,
   "metadata": {},
   "outputs": [
    {
     "data": {
      "text/plain": [
       "-84647.94285196121"
      ]
     },
     "execution_count": 118,
     "metadata": {},
     "output_type": "execute_result"
    }
   ],
   "source": [
    "b=model.intercept_\n",
    "b\n"
   ]
  },
  {
   "cell_type": "code",
   "execution_count": null,
   "metadata": {},
   "outputs": [],
   "source": []
  },
  {
   "cell_type": "code",
   "execution_count": null,
   "metadata": {},
   "outputs": [],
   "source": []
  }
 ],
 "metadata": {
  "kernelspec": {
   "display_name": "Python 3",
   "language": "python",
   "name": "python3"
  },
  "language_info": {
   "codemirror_mode": {
    "name": "ipython",
    "version": 3
   },
   "file_extension": ".py",
   "mimetype": "text/x-python",
   "name": "python",
   "nbconvert_exporter": "python",
   "pygments_lexer": "ipython3",
   "version": "3.8.8"
  }
 },
 "nbformat": 4,
 "nbformat_minor": 4
}
